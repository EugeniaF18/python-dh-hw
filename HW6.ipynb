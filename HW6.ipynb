{
 "cells": [
  {
   "cell_type": "markdown",
   "metadata": {},
   "source": [
    "# Домашнее задание №6 Оцениваемое"
   ]
  },
  {
   "cell_type": "markdown",
   "metadata": {},
   "source": [
    "## Задание 1\n",
    "Дан набор слов \"абракадабра фокус покус десятка за курс немедленно появись\":\n",
    "Необходимо написать функцию, которая выделяет все символьные биграммы в этом наборе слов и возвращает их список. Символьные биграммы -- это пары стоящих рядом букв, например, \"ра\", \"ку\". (Но это не буквы разделенные пробелами или пара из буквы и пробела!) Выведите (применить функцию print) этот список.\n",
    "\n",
    "Создать словарь, где ключами будут полученные биграммы, а значениями — их количество в во введенном тексте\n",
    "\n",
    "Проитерироваться по словарю, пока не встретится биграмма из двух одинаковых букв. На каждой итерации надо вывести (применить функцию print) рассматриваемую биграмму, и количество раз, которое она встретилось."
   ]
  },
  {
   "cell_type": "code",
   "execution_count": 1,
   "metadata": {},
   "outputs": [
    {
     "name": "stdout",
     "output_type": "stream",
     "text": [
      "['аб', 'бр', 'ра', 'ак', 'ка', 'ад', 'да', 'аб', 'бр', 'ра', 'фо', 'ок', 'ку', 'ус', 'по', 'ок', 'ку', 'ус', 'де', 'ес', 'ся', 'ят', 'тк', 'ка', 'за', 'ку', 'ур', 'рс', 'не', 'ем', 'ме', 'ед', 'дл', 'ле', 'ен', 'нн', 'но', 'по', 'оя', 'яв', 'ви', 'ис', 'сь']\n",
      "{'аб': 2, 'бр': 2, 'ра': 2, 'ак': 1, 'ка': 2, 'ад': 1, 'да': 1, 'фо': 1, 'ок': 2, 'ку': 3, 'ус': 2, 'по': 2, 'де': 1, 'ес': 1, 'ся': 1, 'ят': 1, 'тк': 1, 'за': 1, 'ур': 1, 'рс': 1, 'не': 1, 'ем': 1, 'ме': 1, 'ед': 1, 'дл': 1, 'ле': 1, 'ен': 1, 'нн': 1, 'но': 1, 'оя': 1, 'яв': 1, 'ви': 1, 'ис': 1, 'сь': 1}\n",
      "нн 1\n"
     ]
    }
   ],
   "source": [
    "wordset = \"абракадабра фокус покус десятка за курс немедленно появись\"\n",
    "l_bigramms = list('')\n",
    "d_bigramms = {}\n",
    "def pickbigramm():\n",
    "    words = wordset.split()\n",
    "    for word in words:\n",
    "        for i in range(len(word) - 1):\n",
    "            pair = word[i] + word[i + 1]\n",
    "            l_bigramms.append(pair)\n",
    "    print(l_bigramms)\n",
    "    for i in range(len(l_bigramms)):\n",
    "        icount = l_bigramms.count(l_bigramms[i])\n",
    "        (k, v) = (l_bigramms[i], icount)\n",
    "        d_bigramms[k] = v\n",
    "    print(d_bigramms)\n",
    "    for key in d_bigramms:\n",
    "        for i in key:\n",
    "            if key[0] == key[1]:\n",
    "                print(key, d_bigramms[key])\n",
    "                break\n",
    "pickbigramm()"
   ]
  },
  {
   "cell_type": "markdown",
   "metadata": {},
   "source": [
    "## Задание 2\n",
    "Даны два слова, ваша программа должна проверять является ли второе слово обратной записью первого слова."
   ]
  },
  {
   "cell_type": "code",
   "execution_count": 2,
   "metadata": {},
   "outputs": [
    {
     "name": "stdout",
     "output_type": "stream",
     "text": [
      "черный\n",
      "белый\n",
      "NO\n",
      "кот\n",
      "ток\n",
      "YES\n"
     ]
    }
   ],
   "source": [
    "def palindrome():\n",
    "    word1 = input()\n",
    "    word2 = input()\n",
    "    words = 0\n",
    "    l1 = len(word1)\n",
    "    l2 = len(word2)\n",
    "    if l1 != l2:\n",
    "        words = 'NO'\n",
    "    else:\n",
    "        for i in range(l1 // 2 + 1):\n",
    "            if word1[i] == word2[-1 - i]:\n",
    "                words = 'YES'\n",
    "            else:\n",
    "                words = 'NO'\n",
    "                break\n",
    "    print(words)\n",
    "palindrome()\n",
    "palindrome()"
   ]
  },
  {
   "cell_type": "code",
   "execution_count": null,
   "metadata": {},
   "outputs": [],
   "source": []
  }
 ],
 "metadata": {
  "kernelspec": {
   "display_name": "Python 3",
   "language": "python",
   "name": "python3"
  },
  "language_info": {
   "codemirror_mode": {
    "name": "ipython",
    "version": 3
   },
   "file_extension": ".py",
   "mimetype": "text/x-python",
   "name": "python",
   "nbconvert_exporter": "python",
   "pygments_lexer": "ipython3",
   "version": "3.6.4"
  }
 },
 "nbformat": 4,
 "nbformat_minor": 2
}
