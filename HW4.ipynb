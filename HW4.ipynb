{
 "cells": [
  {
   "cell_type": "markdown",
   "metadata": {},
   "source": [
    "# Домашнее задание №4 Неоцениваемое"
   ]
  },
  {
   "cell_type": "markdown",
   "metadata": {},
   "source": [
    "## Задание 1\n",
    "Возьмите достаточно длинную строку, хотя бы 20 символов.\n",
    "Используя срезы( конструкции с квадратными скобочками и двоеточиями при необходимости, которые были пройдены на 4 семинаре ([i],[a:b], [a:b:step]; работают со строками также, как со списком)) сначала выведите третий символ этой строки.\n",
    "\n",
    "Во второй строке выведите предпоследний символ этой строки.\n",
    "\n",
    "В третьей строке выведите первые пять символов этой строки.\n",
    "\n",
    "В четвертой строке выведите всю строку, кроме последних двух символов.\n",
    "\n",
    "В пятой строке выведите все символы с четными индексами (считая, что индексация начинается с 0, поэтому символы выводятся начиная с первого).\n",
    "\n",
    "В шестой строке выведите все символы с нечетными индексами, то есть начиная со второго символа строки.\n",
    "\n",
    "В седьмой строке выведите все символы в обратном порядке.\n",
    "\n",
    "В восьмой строке выведите все символы строки через один в обратном порядке, начиная с последнего.\n",
    "\n",
    "В девятой строке выведите длину данной строки."
   ]
  },
  {
   "cell_type": "code",
   "execution_count": 1,
   "metadata": {},
   "outputs": [
    {
     "name": "stdout",
     "output_type": "stream",
     "text": [
      "Abrakadabra\n",
      "r\n",
      "r\n",
      "Abrak\n",
      "Abrakadab\n",
      "Arkdba\n",
      "baaar\n",
      "arbadakarbA\n",
      "abdkrA\n",
      "11\n"
     ]
    }
   ],
   "source": [
    "line = input()\n",
    "print(line[2])\n",
    "print(line[-2])\n",
    "print(line[:5])\n",
    "print(line[:-2])\n",
    "print(line[::2])\n",
    "print(line[1::2])\n",
    "print(line[-1::-1])\n",
    "print(line[-1::-2])\n",
    "print(len(line))"
   ]
  },
  {
   "cell_type": "markdown",
   "metadata": {},
   "source": [
    "## Задание 2\n",
    "Легенда: Вася хочет проверить, верно ли, что данная текстовая строка читается слева направо и справа налево одинаково. Помогите Васе написать такую программу. Возьмите два слова из строчных букв. Для первого слова, которое должно читаться одинаково, выведите YES, а для второго слова, которое должно читаться неодинаково, -- NO."
   ]
  },
  {
   "cell_type": "code",
   "execution_count": 4,
   "metadata": {},
   "outputs": [
    {
     "name": "stdout",
     "output_type": "stream",
     "text": [
      "abrakadabra\n",
      "NO\n"
     ]
    }
   ],
   "source": [
    "line = input()\n",
    "l = len(line)\n",
    "i = 0\n",
    "while i <= l // 2:\n",
    "    if line[i] == line[-1 - i]:\n",
    "        i += 1\n",
    "    else:\n",
    "        i = l\n",
    "if i == l:\n",
    "    print('NO')\n",
    "else:\n",
    "    print('YES')"
   ]
  },
  {
   "cell_type": "markdown",
   "metadata": {},
   "source": [
    "## Задание 3\n",
    "Сформируйте такой лист под названием my_list, чтобы после того, как вы вызвали команду `print(my_list)' вывелось:\n",
    "['one', 'two', 'three']\n",
    "Затем добавьте еще один элемент под названием elem с помощью метода append, и напечатайте количество элементов в измененном списке, используя специальную функцию."
   ]
  },
  {
   "cell_type": "code",
   "execution_count": 5,
   "metadata": {},
   "outputs": [
    {
     "name": "stdout",
     "output_type": "stream",
     "text": [
      "what\n",
      "4\n"
     ]
    }
   ],
   "source": [
    "my_list = ['one', 'two', 'three']\n",
    "elem = input()\n",
    "my_list.append(elem)\n",
    "print(len(my_list))"
   ]
  },
  {
   "cell_type": "code",
   "execution_count": null,
   "metadata": {},
   "outputs": [],
   "source": []
  }
 ],
 "metadata": {
  "kernelspec": {
   "display_name": "Python 3",
   "language": "python",
   "name": "python3"
  },
  "language_info": {
   "codemirror_mode": {
    "name": "ipython",
    "version": 3
   },
   "file_extension": ".py",
   "mimetype": "text/x-python",
   "name": "python",
   "nbconvert_exporter": "python",
   "pygments_lexer": "ipython3",
   "version": "3.6.4"
  }
 },
 "nbformat": 4,
 "nbformat_minor": 2
}
