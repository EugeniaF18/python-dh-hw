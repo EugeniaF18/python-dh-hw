{
 "cells": [
  {
   "cell_type": "markdown",
   "metadata": {},
   "source": [
    "# Домашнее задание 4"
   ]
  },
  {
   "cell_type": "markdown",
   "metadata": {},
   "source": [
    "## Задание №1\n",
    "Скачайте из папки с домашними заданиями английский текст первой книги о Гарри Поттере. Он должен быть сохранен отдельным файлом. Очистите текст от пунктуации, приведите его к нижнему регистру, лемматизируйте и запишите в новый файл. Проверьте, выполняется ли здесь закон Ципфа. Для этого постройте линейную диаграмму, где по оси Х будет ранг (порядковый номер) слова в отсортированном по убыванию частотном словаре, а по оси Y - относительная частота (абсолютная частота, разделенная на количество слов в тексте). Т.е. у самого частотного слова будет ранг 1, у второго по частоте -- 2 и т.д.\n",
    "\n",
    "Очистите текст от стоп-слов. Постройте barplot для 30 самых частотных слов. Эти слова должны быть по оси Х в виде подписей к делениям. Значениями по этой оси будет ряд чисел от 0 до 30."
   ]
  },
  {
   "cell_type": "code",
   "execution_count": 3,
   "metadata": {},
   "outputs": [],
   "source": [
    "with open('Harry_Potter_and_the_Sorcerers_Stone.txt', 'r', encoding='utf-8') as f:\n",
    "    start_hp = f.read()\n",
    "start_hp = start_hp.lower()\n",
    "start_hp = start_hp.split()\n",
    "punct = \"!\\\"#$%&'()*+,-./:;<=>?@[\\]^_`{|}~„“«»†*—/\\-\"\n",
    "start_hp = [w.strip(punct) for w in start_hp]\n",
    "start_hp = ' '.join(start_hp)\n",
    "with open('start_hp.txt', 'w', encoding='utf-8') as f:\n",
    "    f.write(start_hp)"
   ]
  },
  {
   "cell_type": "code",
   "execution_count": 5,
   "metadata": {},
   "outputs": [
    {
     "data": {
      "image/png": "[encoded data removed]",
      "text/plain": [
       "<Figure size 432x288 with 1 Axes>"
      ]
     },
     "metadata": {},
     "output_type": "display_data"
    }
   ],
   "source": [
    "import matplotlib\n",
    "import matplotlib.pyplot as plt\n",
    "counts = {}\n",
    "for word in start_hp.split():\n",
    "    if word in counts:\n",
    "        counts[word] += 1\n",
    "    else:\n",
    "        counts[word] = 1\n",
    "sorted_counts = sorted(counts.items(), key=lambda x: x[1], reverse=True)\n",
    "\n",
    "plt.title('Закон Ципфа в ГП и ФК')\n",
    "plt.ylabel('относительная частота')\n",
    "plt.xlabel('ранг')\n",
    "Y = []\n",
    "X = []\n",
    "i = 0\n",
    "for k, v in sorted_counts:\n",
    "    ipm = v / len(start_hp) * 1000000\n",
    "    Y.append(ipm)\n",
    "    X.append(i/1000)\n",
    "    i += 1\n",
    "plt.plot(X, Y)\n",
    "plt.show()\n"
   ]
  },
  {
   "cell_type": "markdown",
   "metadata": {},
   "source": [
    "Очистите текст от стоп-слов. Постройте barplot для 30 самых частотных слов. Эти слова должны быть по оси Х в виде подписей к делениям. Значениями по этой оси будет ряд чисел от 0 до 30."
   ]
  },
  {
   "cell_type": "code",
   "execution_count": 6,
   "metadata": {},
   "outputs": [],
   "source": [
    "import nltk\n",
    "from nltk.stem import WordNetLemmatizer\n",
    "from nltk.tokenize import word_tokenize\n",
    "from nltk.corpus import stopwords\n",
    "from nltk import pos_tag\n",
    "lemmatizer = WordNetLemmatizer()\n",
    "with open('start_hp.txt', 'r', encoding='utf-8') as f:\n",
    "    clear_hp = f.read()\n",
    "clear_hp = lemmatizer.lemmatize(start_hp)\n",
    "sw = stopwords.words('english')\n",
    "also_sw = [\"'s\", \"'m\", \"n't\", \"'ve\", \"'re\", \"'d\", \"'ll\"]\n",
    "for i in also_sw:\n",
    "    sw.append(i)\n",
    "clear_hp = [w for w in word_tokenize(clear_hp) if w not in sw]\n",
    "clear_hp = ' '.join(clear_hp)\n",
    "with open('clear_hp.txt', 'w', encoding='utf-8') as f:\n",
    "    f.write(clear_hp)"
   ]
  },
  {
   "cell_type": "code",
   "execution_count": 7,
   "metadata": {},
   "outputs": [
    {
     "name": "stdout",
     "output_type": "stream",
     "text": [
      "[('harry', 1305), ('said', 794), ('ron', 427), ('hagrid', 366), ('could', 301), ('hermione', 267), ('back', 257), ('one', 250), ('got', 204), ('get', 192), ('like', 188), ('know', 185), ('see', 177), ('professor', 172), ('looked', 169), ('snape', 167), ('dumbledore', 156), ('would', 153), ('around', 141), ('dudley', 137), ('going', 134), ('go', 130), ('something', 128), ('think', 121), ('never', 121), ('right', 121), ('malfoy', 121), ('uncle', 120), ('look', 119), ('time', 115)]\n"
     ]
    }
   ],
   "source": [
    "clear_counts = {}\n",
    "for word in clear_hp.split():\n",
    "    if word in clear_counts:\n",
    "        clear_counts[word] += 1\n",
    "    else:\n",
    "        clear_counts[word] = 1\n",
    "sorted_counts = sorted(clear_counts.items(), key=lambda x: x[1], reverse=True)\n",
    "most_common = sorted_counts[:30]\n",
    "print(most_common)"
   ]
  },
  {
   "cell_type": "code",
   "execution_count": 8,
   "metadata": {},
   "outputs": [
    {
     "data": {
      "image/png": "[encoded data removed]",
      "text/plain": [
       "<Figure size 432x288 with 1 Axes>"
      ]
     },
     "metadata": {},
     "output_type": "display_data"
    }
   ],
   "source": [
    "plt.title('30 самых частотных')\n",
    "plt.ylabel('рейтинг')\n",
    "plt.xlabel('слова')\n",
    "X = [i for i in range(30)]\n",
    "Y = []\n",
    "X_name = []\n",
    "for k, v in most_common:\n",
    "    Y.append(v)\n",
    "    X_name.append(k)\n",
    "plt.bar(X, Y)\n",
    "plt.xticks(X, X_name, rotation=90)\n",
    "plt.show()"
   ]
  },
  {
   "cell_type": "code",
   "execution_count": 10,
   "metadata": {},
   "outputs": [],
   "source": [
    "import nltk\n",
    "from nltk.stem import WordNetLemmatizer\n",
    "from nltk.tokenize import word_tokenize\n",
    "from nltk.corpus import stopwords\n",
    "from nltk import pos_tag\n",
    "lemmatizer = WordNetLemmatizer()\n",
    "\n",
    "processing = word_tokenize(clear_hp)\n",
    "taggedx = pos_tag(processing)\n",
    "clear = []\n",
    "def findpos(text):\n",
    "    processing = word_tokenize(text)\n",
    "    tagged = pos_tag(processing)\n",
    "    for word, part in tagged:\n",
    "        if part[0] == 'V':\n",
    "            word = lemmatizer.lemmatize(word, pos = 'v')\n",
    "        elif part[0] == 'J':\n",
    "            word = lemmatizer.lemmatize(word, pos = 'a')\n",
    "        elif part == 'MD':\n",
    "            if word == 'would':\n",
    "                word = 'will'\n",
    "            elif word == 'could':\n",
    "                word = 'will'\n",
    "        elif part[0] == 'R':\n",
    "            word = lemmatizer.lemmatize(word, pos = 'r')\n",
    "        else:\n",
    "            word = lemmatizer.lemmatize(word)\n",
    "        clear.append(word)\n",
    "    return clear\n",
    "with open('clear_hp.txt', 'r', encoding='utf-8') as f:\n",
    "    processing = f.read()\n",
    "clear = findpos(processing)"
   ]
  },
  {
   "cell_type": "code",
   "execution_count": 11,
   "metadata": {},
   "outputs": [],
   "source": [
    "with open('new_clear_hp.txt', 'w', encoding='utf-8') as f:\n",
    "    f.write(' '.join(clear))"
   ]
  },
  {
   "cell_type": "code",
   "execution_count": 12,
   "metadata": {},
   "outputs": [
    {
     "name": "stdout",
     "output_type": "stream",
     "text": [
      "[('harry', 1305), ('say', 925), ('will', 454), ('get', 440), ('ron', 427), ('go', 393), ('look', 389), ('hagrid', 366), ('know', 268), ('hermione', 267), ('back', 263), ('one', 262), ('see', 233), ('think', 213), ('like', 204), ('come', 199), ('tell', 174), ('professor', 172), ('take', 172), ('snape', 167), ('dumbledore', 156), ('try', 151), ('around', 141), ('make', 138), ('dudley', 137), ('time', 133), ('want', 131), ('something', 128), ('find', 122), ('never', 121)]\n"
     ]
    }
   ],
   "source": [
    "with open('new_clear_hp.txt', 'r', encoding='utf-8') as f:\n",
    "    hp = f.read()\n",
    "new_counts = {}\n",
    "for word in hp.split():\n",
    "    if word in new_counts:\n",
    "        new_counts[word] += 1\n",
    "    else:\n",
    "        new_counts[word] = 1\n",
    "sorted_counts = sorted(new_counts.items(), key=lambda x: x[1], reverse=True)\n",
    "most_common = sorted_counts[:30]\n",
    "print(most_common)\n",
    "#yay"
   ]
  }
 ],
 "metadata": {
  "kernelspec": {
   "display_name": "Python 3",
   "language": "python",
   "name": "python3"
  },
  "language_info": {
   "codemirror_mode": {
    "name": "ipython",
    "version": 3
   },
   "file_extension": ".py",
   "mimetype": "text/x-python",
   "name": "python",
   "nbconvert_exporter": "python",
   "pygments_lexer": "ipython3",
   "version": "3.6.4"
  }
 },
 "nbformat": 4,
 "nbformat_minor": 2
}
