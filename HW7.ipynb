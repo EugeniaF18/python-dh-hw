{
 "cells": [
  {
   "cell_type": "markdown",
   "metadata": {},
   "source": [
    "# Домашнее задание №7 Неоцениваемое\n"
   ]
  },
  {
   "cell_type": "markdown",
   "metadata": {},
   "source": [
    "## Задание 1\n",
    "Вперед в прошлое\n",
    "\n",
    "Помните, в первом домашнем задании просили выложить литературное произведение.\n",
    "\n",
    "Выведите первые 100 символов (символы - это не только буквы, но и пробелы, знаки препинания, символ перевода строки и т.д.) из выбранного вами произведения, если вдруг в файле меньше 100 символов, выведите все символы из файла.\n",
    "\n",
    "Напечатайте количество строк в выбранном файле."
   ]
  },
  {
   "cell_type": "code",
   "execution_count": 1,
   "metadata": {},
   "outputs": [
    {
     "name": "stdout",
     "output_type": "stream",
     "text": [
      "﻿\n",
      "Лев Толстой Анна Каренина\n",
      "Роман «Широкого дыхания»\n",
      "\n",
      "«Анна Каренина» поразила современников «вседне\n",
      "1811870\n"
     ]
    },
    {
     "data": {
      "text/plain": [
       "True"
      ]
     },
     "execution_count": 1,
     "metadata": {},
     "output_type": "execute_result"
    }
   ],
   "source": [
    "with open('hw1_books\\АННА КАРЕНИНА.txt', 'r', encoding='utf-8') as f:\n",
    "    novel = f.read()\n",
    "    if len(novel) < 100:\n",
    "        print(novel)\n",
    "    else:\n",
    "        print(novel[:100])\n",
    "    lines = 0\n",
    "    for line in novel:\n",
    "        lines += 1\n",
    "    print(lines)\n",
    "f.closed"
   ]
  },
  {
   "cell_type": "markdown",
   "metadata": {},
   "source": [
    "## Задание 2\n",
    "\n",
    "Дай -- возьми\n",
    "\n",
    "Получите из ввода первую строку и запишите ее в файл \"mystrs.txt\".\n",
    "\n",
    "Напечатайте содержимое файла \"mystrs.txt\", должна быть выведена первая строка.\n",
    "\n",
    "Получите из ввода вторую строку и только ее запишите в файл \"mystrs.txt\".\n",
    "\n",
    "Напечатайте содержимое файла \"mystrs.txt\", в результате должна быть выведена первая и вторая строки.\n",
    "\n",
    "Примечание: Для ввода обязательно используйте функцию input(), что позволит получить строку ввода."
   ]
  },
  {
   "cell_type": "code",
   "execution_count": 5,
   "metadata": {},
   "outputs": [
    {
     "name": "stdout",
     "output_type": "stream",
     "text": [
      "строка номер один\n",
      "строка номер один\n",
      "\n",
      "вторая строка\n",
      "строка номер один\n",
      "вторая строка\n"
     ]
    },
    {
     "data": {
      "text/plain": [
       "True"
      ]
     },
     "execution_count": 5,
     "metadata": {},
     "output_type": "execute_result"
    }
   ],
   "source": [
    "line_1 = input()\n",
    "with open('mystrs.txt', 'w', encoding='utf-8') as f:\n",
    "    f.write(line_1 + '\\n')\n",
    "with open('mystrs.txt', 'r', encoding='utf-8') as f:\n",
    "    lines = f.read()\n",
    "    print(lines)\n",
    "f.closed\n",
    "line_2 = input()\n",
    "with open('mystrs.txt', 'a', encoding='utf-8') as f:\n",
    "    f.write(line_2)\n",
    "with open('mystrs.txt', 'r', encoding='utf-8') as f:\n",
    "    lines = f.read()\n",
    "    print(lines)\n",
    "f.closed"
   ]
  },
  {
   "cell_type": "markdown",
   "metadata": {},
   "source": [
    "## Задание 3\n",
    "Назад в будущее\n",
    "\n",
    "С использованием библиотеки os напечатайте полные пути до всех файлов из папки с репозиторием первого домашнего задания. То есть в итоге должны быть выведены абсолютные (полные) пути до всех художественных произведений или мемов, ауйдиофайлов и текстового произведений."
   ]
  },
  {
   "cell_type": "code",
   "execution_count": 6,
   "metadata": {},
   "outputs": [
    {
     "name": "stdout",
     "output_type": "stream",
     "text": [
      "C:/Users/Женя/GIT/HW1\\README.md\n",
      "C:/Users/Женя/GIT/HW1\\.git\\.COMMIT_EDITMSG.swo\n",
      "C:/Users/Женя/GIT/HW1\\.git\\.COMMIT_EDITMSG.swp\n",
      "C:/Users/Женя/GIT/HW1\\.git\\COMMIT_EDITMSG\n",
      "C:/Users/Женя/GIT/HW1\\.git\\config\n",
      "C:/Users/Женя/GIT/HW1\\.git\\description\n",
      "C:/Users/Женя/GIT/HW1\\.git\\HEAD\n",
      "C:/Users/Женя/GIT/HW1\\.git\\index\n",
      "C:/Users/Женя/GIT/HW1\\.git\\packed-refs\n",
      "C:/Users/Женя/GIT/HW1\\.git\\hooks\\applypatch-msg.sample\n",
      "C:/Users/Женя/GIT/HW1\\.git\\hooks\\commit-msg.sample\n",
      "C:/Users/Женя/GIT/HW1\\.git\\hooks\\fsmonitor-watchman.sample\n",
      "C:/Users/Женя/GIT/HW1\\.git\\hooks\\post-update.sample\n",
      "C:/Users/Женя/GIT/HW1\\.git\\hooks\\pre-applypatch.sample\n",
      "C:/Users/Женя/GIT/HW1\\.git\\hooks\\pre-commit.sample\n",
      "C:/Users/Женя/GIT/HW1\\.git\\hooks\\pre-push.sample\n",
      "C:/Users/Женя/GIT/HW1\\.git\\hooks\\pre-rebase.sample\n",
      "C:/Users/Женя/GIT/HW1\\.git\\hooks\\pre-receive.sample\n",
      "C:/Users/Женя/GIT/HW1\\.git\\hooks\\prepare-commit-msg.sample\n",
      "C:/Users/Женя/GIT/HW1\\.git\\hooks\\update.sample\n",
      "C:/Users/Женя/GIT/HW1\\.git\\info\\exclude\n",
      "C:/Users/Женя/GIT/HW1\\.git\\logs\\HEAD\n",
      "C:/Users/Женя/GIT/HW1\\.git\\logs\\refs\\heads\\master\n",
      "C:/Users/Женя/GIT/HW1\\.git\\logs\\refs\\remotes\\origin\\HEAD\n",
      "C:/Users/Женя/GIT/HW1\\.git\\logs\\refs\\remotes\\origin\\master\n",
      "C:/Users/Женя/GIT/HW1\\.git\\objects\\01\\061f4f5c5b332b0739bd3604041f877b628a22\n",
      "C:/Users/Женя/GIT/HW1\\.git\\objects\\0f\\aac6de48feff2217575806b46eebf6710fafb8\n",
      "C:/Users/Женя/GIT/HW1\\.git\\objects\\10\\bf58bc306de19bc9da3e322f10abd1b96eed29\n",
      "C:/Users/Женя/GIT/HW1\\.git\\objects\\11\\3f715ae4a07932602374ca0400b57567562fbe\n",
      "C:/Users/Женя/GIT/HW1\\.git\\objects\\18\\42e355a68b1d3949d27edac3bba592fdf8a89d\n",
      "C:/Users/Женя/GIT/HW1\\.git\\objects\\19\\8906410693f447547a5cb283773487a4bf491b\n",
      "C:/Users/Женя/GIT/HW1\\.git\\objects\\1b\\9d8dd110e746ca0363af49557ae7600168315d\n",
      "C:/Users/Женя/GIT/HW1\\.git\\objects\\21\\72495d5fd871b5abe3043d4998ff34d779443f\n",
      "C:/Users/Женя/GIT/HW1\\.git\\objects\\28\\9a29315001cf63061adc053edb66d739275130\n",
      "C:/Users/Женя/GIT/HW1\\.git\\objects\\30\\13ac0c23b5169da1fb79c4a0c7afdf2f701cec\n",
      "C:/Users/Женя/GIT/HW1\\.git\\objects\\33\\16fdf9369886c7b35bf261615abc0e03786e01\n",
      "C:/Users/Женя/GIT/HW1\\.git\\objects\\3e\\01899e6702a0f9b3b5acf424dbf3668375fd10\n",
      "C:/Users/Женя/GIT/HW1\\.git\\objects\\3f\\2b56adcbfa688cecf107114bbe2aae7a1beea6\n",
      "C:/Users/Женя/GIT/HW1\\.git\\objects\\41\\a06dc8759262af48c37379299736315d6bd47b\n",
      "C:/Users/Женя/GIT/HW1\\.git\\objects\\5e\\6242ef9f1fe24d5b41161acad1209918787702\n",
      "C:/Users/Женя/GIT/HW1\\.git\\objects\\6b\\095b2de05c0c3fdff06fb80ce122912a79790e\n",
      "C:/Users/Женя/GIT/HW1\\.git\\objects\\82\\fc5b72b80f3297e5f98007bc6d184f55b6ba26\n",
      "C:/Users/Женя/GIT/HW1\\.git\\objects\\83\\15b77a5bc29caeedbc0545f69d1ce32beffaa5\n",
      "C:/Users/Женя/GIT/HW1\\.git\\objects\\88\\665e44a60c0476959920290e4a16b5619bc5a1\n",
      "C:/Users/Женя/GIT/HW1\\.git\\objects\\94\\43a8df34c991132aa24ab84f94fbaf2e3f7485\n",
      "C:/Users/Женя/GIT/HW1\\.git\\objects\\98\\a900bedd056ec3dfafa47e33ab483b6a42e882\n",
      "C:/Users/Женя/GIT/HW1\\.git\\objects\\b2\\b19b815701f55593a386b2fab1e01ed6058929\n",
      "C:/Users/Женя/GIT/HW1\\.git\\objects\\b4\\bcb697fdfc28b61d363d4514f7b2f8d362d3ca\n",
      "C:/Users/Женя/GIT/HW1\\.git\\objects\\c1\\d66a1c26f4ed58c081d2ef6944189e53953e71\n",
      "C:/Users/Женя/GIT/HW1\\.git\\objects\\d8\\c087ba990d4e5199310210bd2c78ac5092ae2c\n",
      "C:/Users/Женя/GIT/HW1\\.git\\objects\\d9\\7031c66a935b9d4918a92dfa488f5c71183b13\n",
      "C:/Users/Женя/GIT/HW1\\.git\\objects\\de\\51a4fdeae8afa1859c089877e20f0fe795a53a\n",
      "C:/Users/Женя/GIT/HW1\\.git\\objects\\ee\\26763b61225c52c735da8989fc4bea07fc1eaa\n",
      "C:/Users/Женя/GIT/HW1\\.git\\objects\\f6\\5b49a0838536fc20b76a0ad744c1880cb53e49\n",
      "C:/Users/Женя/GIT/HW1\\.git\\refs\\heads\\master\n",
      "C:/Users/Женя/GIT/HW1\\.git\\refs\\remotes\\origin\\HEAD\n",
      "C:/Users/Женя/GIT/HW1\\.git\\refs\\remotes\\origin\\master\n",
      "C:/Users/Женя/GIT/HW1\\hw1_books\\АННА КАРЕНИНА.txt\n",
      "C:/Users/Женя/GIT/HW1\\hw1_books\\ГЕРОЙ НАШЕГО ВРЕМЕНИ.txt\n",
      "C:/Users/Женя/GIT/HW1\\hw1_books\\ЛОТМАН КОММЕНТАРИЙ К ЕВГЕНИЮ ОНЕГИНУ.txt\n",
      "C:/Users/Женя/GIT/HW1\\hw1_books\\МАЛЕНЬКИЕ ТРАГЕДИИ.txt\n",
      "C:/Users/Женя/GIT/HW1\\hw1_music\\Imagine Dragons - Amsterdam  (audiopoisk.com).mp3\n",
      "C:/Users/Женя/GIT/HW1\\hw1_music\\Mama  (audiopoisk.com).mp3\n",
      "C:/Users/Женя/GIT/HW1\\hw1_pics\\1.jpg\n",
      "C:/Users/Женя/GIT/HW1\\hw1_pics\\2.jpg\n",
      "C:/Users/Женя/GIT/HW1\\hw1_pics\\3.jpg\n",
      "C:/Users/Женя/GIT/HW1\\hw1_pics\\TRUE.jpg\n"
     ]
    }
   ],
   "source": [
    "import os\n",
    "for root, dirs, files in os.walk('C:/Users/Женя/GIT/HW1'):\n",
    "    for name in files:\n",
    "        fullname = os.path.join(root, name)\n",
    "        print(fullname)\n",
    "#что"
   ]
  }
 ],
 "metadata": {
  "kernelspec": {
   "display_name": "Python 3",
   "language": "python",
   "name": "python3"
  },
  "language_info": {
   "codemirror_mode": {
    "name": "ipython",
    "version": 3
   },
   "file_extension": ".py",
   "mimetype": "text/x-python",
   "name": "python",
   "nbconvert_exporter": "python",
   "pygments_lexer": "ipython3",
   "version": "3.6.4"
  }
 },
 "nbformat": 4,
 "nbformat_minor": 2
}
