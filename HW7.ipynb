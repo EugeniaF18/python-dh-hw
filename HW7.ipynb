{
 "cells": [
  {
   "cell_type": "markdown",
   "metadata": {},
   "source": [
    "# Домашнее задание №7 Неоцениваемое\n"
   ]
  },
  {
   "cell_type": "markdown",
   "metadata": {},
   "source": [
    "## Задание 1\n",
    "Вперед в прошлое\n",
    "\n",
    "Помните, в первом домашнем задании просили выложить литературное произведение.\n",
    "\n",
    "Выведите первые 100 символов (символы - это не только буквы, но и пробелы, знаки препинания, символ перевода строки и т.д.) из выбранного вами произведения, если вдруг в файле меньше 100 символов, выведите все символы из файла.\n",
    "\n",
    "Напечатайте количество строк в выбранном файле."
   ]
  },
  {
   "cell_type": "code",
   "execution_count": 3,
   "metadata": {},
   "outputs": [
    {
     "name": "stdout",
     "output_type": "stream",
     "text": [
      "﻿\n",
      "Лев Толстой Анна Каренина\n",
      "Роман «Широкого дыхания»\n",
      "\n",
      "«Анна Каренина» поразила современников «вседне\n",
      "1811870\n"
     ]
    },
    {
     "data": {
      "text/plain": [
       "True"
      ]
     },
     "execution_count": 3,
     "metadata": {},
     "output_type": "execute_result"
    }
   ],
   "source": [
    "with open('hw1_books\\АННА КАРЕНИНА.txt', 'r', encoding='utf-8') as f:\n",
    "    novel = f.read()\n",
    "    if len(novel) < 100:\n",
    "        print(novel)\n",
    "    else:\n",
    "        print(novel[:100])\n",
    "    lines = 0\n",
    "    for line in novel:\n",
    "        lines += 1\n",
    "    print(lines)\n",
    "f.closed"
   ]
  }
 ],
 "metadata": {
  "kernelspec": {
   "display_name": "Python 3",
   "language": "python",
   "name": "python3"
  },
  "language_info": {
   "codemirror_mode": {
    "name": "ipython",
    "version": 3
   },
   "file_extension": ".py",
   "mimetype": "text/x-python",
   "name": "python",
   "nbconvert_exporter": "python",
   "pygments_lexer": "ipython3",
   "version": "3.6.4"
  }
 },
 "nbformat": 4,
 "nbformat_minor": 2
}
