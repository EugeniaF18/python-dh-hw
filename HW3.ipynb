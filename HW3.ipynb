{
 "cells": [
  {
   "cell_type": "markdown",
   "metadata": {},
   "source": [
    "# Домашнее задание №3\n"
   ]
  },
  {
   "cell_type": "markdown",
   "metadata": {},
   "source": [
    "## Задание №1\n",
    "Скачайте текст \"Литературных анекдотов\". Напишите функцию, которая будет читать файл, лемматизировать текст с помощью pymystem3 и записывать результат в новый файл. У функции должно бы два аргумента: путь к исходному файлу и путь к файлу с лемматизированным текстом. Вызов функции тоже должен быть прописан в решении."
   ]
  },
  {
   "cell_type": "code",
   "execution_count": 2,
   "metadata": {},
   "outputs": [],
   "source": [
    "from pymystem3 import Mystem"
   ]
  },
  {
   "cell_type": "code",
   "execution_count": 12,
   "metadata": {},
   "outputs": [],
   "source": [
    "def lemm_anecdotes(source_file, lemm_file):\n",
    "    with open('literary_anecdotes.txt', 'r', encoding='utf-8') as f:\n",
    "        text = f.read()\n",
    "    m = Mystem()\n",
    "    l_text = m.lemmatize(text)\n",
    "    l_text = ''.join(l_text)\n",
    "    with open('lemm_file.txt', 'w', encoding='utf-8') as f:\n",
    "        f.write(l_text)\n",
    "\n",
    "lemm_anecdotes('C:\\\\Users\\Женя\\\\GIT\\\\python-dh-hw\\\\python-dh-hw\\\\literary_anecdotes.txt', 'C:\\\\Users\\\\Женя\\\\GIT\\\\python-dh-hw\\\\python-dh-hw\\\\lemm_file.txt')"
   ]
  },
  {
   "cell_type": "markdown",
   "metadata": {},
   "source": [
    "## Задание №2\n",
    "Очистите лемматизированный текст от стоп-слов и посчитайте ipm для оставшихся. Выведите 20 самых частотных по этому параметру слов."
   ]
  },
  {
   "cell_type": "code",
   "execution_count": 15,
   "metadata": {
    "scrolled": true
   },
   "outputs": [
    {
     "name": "stdout",
     "output_type": "stream",
     "text": [
      "Двадцать самых частотных [('пушкин', 4447.794949114211), ('толстой', 2487.7497173011684), ('гоголь', 2336.9770071617036), ('однажды', 2186.204297022239), ('лев', 1884.6588767433095), ('любить', 1507.7271013946477), ('достоевский', 1507.7271013946477), ('тургенев', 1206.181681115718), ('ребенок', 1130.7953260459858), ('царствие', 1130.7953260459858), ('небесный', 1130.7953260459858), ('окно', 904.6362608367886), ('тверской', 904.6362608367886), ('бульвар', 904.6362608367886), ('приходить', 904.6362608367886), ('лермонтов', 904.6362608367886), ('федор', 829.2499057670562), ('михайлович', 829.2499057670562), ('идти', 753.8635506973238), ('герцен', 753.8635506973238)]\n"
     ]
    }
   ],
   "source": [
    "with open('lemm_file.txt', 'r', encoding='utf-8') as f:\n",
    "    l_text = f.read()\n",
    "import string\n",
    "from string import punctuation\n",
    "from collections import Counter\n",
    "l_text = [w.strip(punctuation) for w in l_text]\n",
    "l_text = ''.join(l_text)\n",
    "with open('rus_stopwords.txt', 'r', encoding='utf-8') as f:\n",
    "        sw = f.read()\n",
    "filt_text = [w for w in l_text.split() if w not in sw]\n",
    "filt_text = ' '.join(filt_text)\n",
    "counts = {}\n",
    "for word in filt_text.split():\n",
    "    if word in counts:\n",
    "        counts[word] += 1\n",
    "    else:\n",
    "        counts[word] = 1\n",
    "sorted_counts = sorted(counts.items(), key=lambda x: x[1], reverse=True)\n",
    "ipm_dict = {}\n",
    "for k, v in counts.items():\n",
    "    ipm_dict[k] = v / len(filt_text) * 1000000\n",
    "sorted_counts = sorted(ipm_dict.items(), key=lambda x: x[1], reverse=True) \n",
    "print('Двадцать самых частотных', sorted_counts[:20])"
   ]
  },
  {
   "cell_type": "markdown",
   "metadata": {},
   "source": [
    "## Задание №3\n",
    "Сделайте полный морфологический разбор исходного текста. Напишите регулярное выражение, которое будет извлекать из тега только часть речи. Пройдитесь циклом по списку с разборами, который выдал pymystem3, извлекая из каждого разбора форму слова и его часть речи и записывая их в новый словарь (форма -- ключ, часть речи -- значение). Посчитайте абсолютную частоту для всех частей речи, а затем относительнную частоту (абсолютная частота / длина текста в словах)."
   ]
  },
  {
   "cell_type": "code",
   "execution_count": 18,
   "metadata": {},
   "outputs": [],
   "source": [
    "from pymystem3 import Mystem\n",
    "m = Mystem()\n",
    "with open('literary_anecdotes.txt', 'r', encoding='utf-8') as f:\n",
    "        text = f.read()\n",
    "res = m.analyze(text)\n",
    "import re\n",
    "words = {}\n",
    "reg = re.compile('[A-Z]+')\n",
    "for processing in res:\n",
    "    for k, v in processing.items():\n",
    "        try:\n",
    "            word = processing['text']\n",
    "            part = processing['analysis'][0]['gr']\n",
    "            words[word] = reg.match(part).group(0) \n",
    "        except (KeyError, IndexError) as e:\n",
    "            pass"
   ]
  },
  {
   "cell_type": "code",
   "execution_count": 31,
   "metadata": {},
   "outputs": [
    {
     "name": "stdout",
     "output_type": "stream",
     "text": [
      "Counter({'S': 440, 'V': 436, 'A': 100, 'ADV': 87, 'SPRO': 54, 'APRO': 51, 'PR': 37, 'PART': 28, 'ADVPRO': 24, 'CONJ': 20, 'NUM': 9, 'INTJ': 7, 'ANUM': 2})\n",
      "{'PR': 0.002053958032641279, 'S': 0.024425446874653048, 'V': 0.024203397357610748, 'A': 0.005551237926057511, 'ADV': 0.004829576995670035, 'SPRO': 0.002997668480071056, 'CONJ': 0.001110247585211502, 'PART': 0.001554346619296103, 'ADVPRO': 0.0013322971022538025, 'APRO': 0.0028311313422893303, 'ANUM': 0.00011102475852115021, 'INTJ': 0.00038858665482402574, 'NUM': 0.000499611413345176}\n"
     ]
    }
   ],
   "source": [
    "values = words.values()\n",
    "freq = Counter(values)\n",
    "print(freq)\n",
    "length = len(text)\n",
    "freq_dict = {}\n",
    "for k, v in freq.items():\n",
    "    freq_dict[k] = v / length\n",
    "print   (freq_dict)"
   ]
  },
  {
   "cell_type": "code",
   "execution_count": null,
   "metadata": {},
   "outputs": [],
   "source": []
  }
 ],
 "metadata": {
  "kernelspec": {
   "display_name": "Python 3",
   "language": "python",
   "name": "python3"
  },
  "language_info": {
   "codemirror_mode": {
    "name": "ipython",
    "version": 3
   },
   "file_extension": ".py",
   "mimetype": "text/x-python",
   "name": "python",
   "nbconvert_exporter": "python",
   "pygments_lexer": "ipython3",
   "version": "3.6.4"
  }
 },
 "nbformat": 4,
 "nbformat_minor": 2
}
