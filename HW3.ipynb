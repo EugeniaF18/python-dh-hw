{
 "cells": [
  {
   "cell_type": "markdown",
   "metadata": {},
   "source": [
    "# ДЗ1 Неоцениваемое (ДЗ по Python)"
   ]
  },
  {
   "cell_type": "markdown",
   "metadata": {},
   "source": [
    "## Задание 1"
   ]
  },
  {
   "cell_type": "markdown",
   "metadata": {},
   "source": [
    "Напишите программу, которая по данному числу n от 1 до 9 выводит на экран n пингвинов. Изображение одного пингвина имеет размер 5 × 9 символов, между двумя соседними пингвинами также имеется пустой (из пробелов) столбец. Разрешается вывести пустой столбец после последнего пингвина. "
   ]
  },
  {
   "cell_type": "code",
   "execution_count": 3,
   "metadata": {},
   "outputs": [
    {
     "name": "stdout",
     "output_type": "stream",
     "text": [
      "8\n",
      "   _~_       _~_       _~_       _~_       _~_       _~_       _~_       _~_    \n",
      "  (o o)     (o o)     (o o)     (o o)     (o o)     (o o)     (o o)     (o o)   \n",
      " /  V  \\   /  V  \\   /  V  \\   /  V  \\   /  V  \\   /  V  \\   /  V  \\   /  V  \\  \n",
      "/(  _  )\\ /(  _  )\\ /(  _  )\\ /(  _  )\\ /(  _  )\\ /(  _  )\\ /(  _  )\\ /(  _  )\\ \n",
      "  ^^ ^^     ^^ ^^     ^^ ^^     ^^ ^^     ^^ ^^     ^^ ^^     ^^ ^^     ^^ ^^   \n"
     ]
    }
   ],
   "source": [
    "penguin_number = int(input())\n",
    "print(penguin_number * '   _~_    ')\n",
    "print(penguin_number * '  (o o)   ')\n",
    "print(penguin_number * ' /  V  \\\\  ')\n",
    "print(penguin_number * '/(  _  )\\\\ ')\n",
    "print(penguin_number * '  ^^ ^^   ')\n"
   ]
  },
  {
   "cell_type": "markdown",
   "metadata": {},
   "source": [
    "## Задание 2"
   ]
  },
  {
   "cell_type": "markdown",
   "metadata": {},
   "source": [
    "Возьмите строку, состоящую из нескольких слов, разделенных пробелами. Программа должна напечатать количество слов. Можете решить задачу, своими глазами посчитав, или использовать для решения задачи метод count. Пример: взята строка \"Hello world\", ответ: Количество слов: 2"
   ]
  },
  {
   "cell_type": "code",
   "execution_count": 4,
   "metadata": {},
   "outputs": [
    {
     "name": "stdout",
     "output_type": "stream",
     "text": [
      "hello world what's up\n",
      "4\n"
     ]
    }
   ],
   "source": [
    "# решение строго по условию, то есть только для строк, в которых по одному пробелу между словами и которые не начинаются и не заканчиваются пробелами\n",
    "words = input().count(' ') + 1 \n",
    "print(words)"
   ]
  },
  {
   "cell_type": "code",
   "execution_count": 6,
   "metadata": {},
   "outputs": [
    {
     "name": "stdout",
     "output_type": "stream",
     "text": [
      "hello world\n",
      "2\n"
     ]
    }
   ],
   "source": [
    "# очень криво\n",
    "line = input().strip()\n",
    "if line[0] != ' ':\n",
    "    words = 1\n",
    "else:\n",
    "    words = 0\n",
    "i = 0\n",
    "while i < len(line):\n",
    "    if line[i] == ' ' and line[i - 1] != ' ':\n",
    "        words +=1\n",
    "    i += 1\n",
    "print (words)"
   ]
  },
  {
   "cell_type": "markdown",
   "metadata": {},
   "source": [
    "\n",
    "## Задание 3"
   ]
  },
  {
   "cell_type": "markdown",
   "metadata": {},
   "source": [
    "Придумайте свою задачу (абсолютно любой сложности) и решите ее."
   ]
  },
  {
   "cell_type": "code",
   "execution_count": 7,
   "metadata": {},
   "outputs": [
    {
     "name": "stdout",
     "output_type": "stream",
     "text": [
      "National Research University – Higher School of Economics \n",
      "National Research University – Higher School of Economics \n",
      "National Research University – Higher School of Economics\n",
      "National Research University – Higher School of Economic\n",
      "National Research University – Higher School of Economi\n",
      "National Research University – Higher School of Econom\n",
      "National Research University – Higher School of Econo\n",
      "National Research University – Higher School of Econ\n",
      "National Research University – Higher School of Eco\n",
      "National Research University – Higher School of Ec\n",
      "National Research University – Higher School of E\n",
      "National Research University – Higher School of \n",
      "National Research University – Higher School of\n",
      "National Research University – Higher School o\n",
      "National Research University – Higher School \n",
      "National Research University – Higher School\n",
      "National Research University – Higher Schoo\n",
      "National Research University – Higher Scho\n",
      "National Research University – Higher Sch\n",
      "National Research University – Higher Sc\n",
      "National Research University – Higher S\n",
      "National Research University – Higher \n",
      "National Research University – Higher\n",
      "National Research University – Highe\n",
      "National Research University – High\n",
      "National Research University – Hig\n",
      "National Research University – Hi\n",
      "National Research University – H\n",
      "National Research University – \n",
      "National Research University –\n",
      "National Research University \n",
      "National Research University\n",
      "National Research Universit\n",
      "National Research Universi\n",
      "National Research Univers\n",
      "National Research Univer\n",
      "National Research Unive\n",
      "National Research Univ\n",
      "National Research Uni\n",
      "National Research Un\n",
      "National Research U\n",
      "National Research \n",
      "National Research\n",
      "National Researc\n",
      "National Resear\n",
      "National Resea\n",
      "National Rese\n",
      "National Res\n",
      "National Re\n",
      "National R\n",
      "National \n",
      "National\n",
      "Nationa\n",
      "Nation\n",
      "Natio\n",
      "Nati\n",
      "Nat\n",
      "Na\n",
      "N\n",
      "Na\n",
      "Nat\n",
      "Nati\n",
      "Natio\n",
      "Nation\n",
      "Nationa\n",
      "National\n",
      "National \n",
      "National R\n",
      "National Re\n",
      "National Res\n",
      "National Rese\n",
      "National Resea\n",
      "National Resear\n",
      "National Researc\n",
      "National Research\n",
      "National Research \n",
      "National Research U\n",
      "National Research Un\n",
      "National Research Uni\n",
      "National Research Univ\n",
      "National Research Unive\n",
      "National Research Univer\n",
      "National Research Univers\n",
      "National Research Universi\n",
      "National Research Universit\n",
      "National Research University\n",
      "National Research University \n",
      "National Research University –\n",
      "National Research University – \n",
      "National Research University – H\n",
      "National Research University – Hi\n",
      "National Research University – Hig\n",
      "National Research University – High\n",
      "National Research University – Highe\n",
      "National Research University – Higher\n",
      "National Research University – Higher \n",
      "National Research University – Higher S\n",
      "National Research University – Higher Sc\n",
      "National Research University – Higher Sch\n",
      "National Research University – Higher Scho\n",
      "National Research University – Higher Schoo\n",
      "National Research University – Higher School\n",
      "National Research University – Higher School \n",
      "National Research University – Higher School o\n",
      "National Research University – Higher School of\n",
      "National Research University – Higher School of \n",
      "National Research University – Higher School of E\n",
      "National Research University – Higher School of Ec\n",
      "National Research University – Higher School of Eco\n",
      "National Research University – Higher School of Econ\n",
      "National Research University – Higher School of Econo\n",
      "National Research University – Higher School of Econom\n",
      "National Research University – Higher School of Economi\n",
      "National Research University – Higher School of Economic\n",
      "National Research University – Higher School of Economics\n",
      "National Research University – Higher School of Economics \n"
     ]
    }
   ],
   "source": [
    "# это надо бы через for, но я не дружу с индексами\n",
    "line = input()\n",
    "letters = len(line)\n",
    "while letters > 0:\n",
    "    print(line[:letters])\n",
    "    letters -= 1\n",
    "letters += 2\n",
    "while letters < len(line) + 1:\n",
    "    print(line[:letters])\n",
    "    letters += 1"
   ]
  },
  {
   "cell_type": "code",
   "execution_count": null,
   "metadata": {},
   "outputs": [],
   "source": []
  }
 ],
 "metadata": {
  "kernelspec": {
   "display_name": "Python 3",
   "language": "python",
   "name": "python3"
  },
  "language_info": {
   "codemirror_mode": {
    "name": "ipython",
    "version": 3
   },
   "file_extension": ".py",
   "mimetype": "text/x-python",
   "name": "python",
   "nbconvert_exporter": "python",
   "pygments_lexer": "ipython3",
   "version": "3.6.4"
  }
 },
 "nbformat": 4,
 "nbformat_minor": 2
}
